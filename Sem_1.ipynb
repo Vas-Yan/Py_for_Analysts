{
 "cells": [
  {
   "cell_type": "markdown",
   "id": "3ea304fb",
   "metadata": {},
   "source": [
    "# Задание 1\n",
    "## 1.1 Соедините два словаря в один"
   ]
  },
  {
   "cell_type": "code",
   "execution_count": 15,
   "id": "eaddd51d",
   "metadata": {},
   "outputs": [],
   "source": [
    "\n",
    "dict1={'One': 1,'Two': 2,'Three': 3}\n",
    "dict2={'Four': 4, 'Five': 5, 'Six': 6}\n"
   ]
  },
  {
   "cell_type": "code",
   "execution_count": 16,
   "id": "a7cac010",
   "metadata": {},
   "outputs": [],
   "source": [
    "dict1.update(dict2)"
   ]
  },
  {
   "cell_type": "code",
   "execution_count": 17,
   "id": "ed39587c",
   "metadata": {},
   "outputs": [
    {
     "data": {
      "text/plain": [
       "{'One': 1, 'Two': 2, 'Three': 3, 'Four': 4, 'Five': 5, 'Six': 6}"
      ]
     },
     "execution_count": 17,
     "metadata": {},
     "output_type": "execute_result"
    }
   ],
   "source": [
    "dict1"
   ]
  },
  {
   "cell_type": "markdown",
   "id": "2b04907a",
   "metadata": {},
   "source": [
    "## 1.2 Напишите функцию, которая на вход принимает два словаря и возвращает один объединенный словарь"
   ]
  },
  {
   "cell_type": "code",
   "execution_count": null,
   "id": "67bb9db5",
   "metadata": {},
   "outputs": [],
   "source": [
    "dict1={'One': 1,'Two': 2,'Three': 3}\n",
    "dict2={'Four': 4, 'Five': 5, 'Six': 6}"
   ]
  },
  {
   "cell_type": "code",
   "execution_count": 37,
   "id": "3fede802",
   "metadata": {},
   "outputs": [],
   "source": [
    "def dict_merger(dict1,dict2):\n",
    "    dict1.update(dict2)\n",
    "    return dict1"
   ]
  },
  {
   "cell_type": "code",
   "execution_count": 38,
   "id": "3a91f694",
   "metadata": {},
   "outputs": [
    {
     "data": {
      "text/plain": [
       "{'One': 1, 'Two': 2, 'Three': 3, 'Four': 4, 'Five': 5, 'Six': 6}"
      ]
     },
     "execution_count": 38,
     "metadata": {},
     "output_type": "execute_result"
    }
   ],
   "source": [
    "dict_merger(dict1,dict2)"
   ]
  },
  {
   "cell_type": "markdown",
   "id": "535070cd",
   "metadata": {},
   "source": [
    "# Задание 2 Напишите функцию, которая из двух списков, делает один словарь, где элементы из первого списка - ключи, а элементы из второго списка - значения\n",
    "## 2.1 Используя цикл for"
   ]
  },
  {
   "cell_type": "code",
   "execution_count": null,
   "id": "45203e71",
   "metadata": {},
   "outputs": [],
   "source": [
    "keys = ['One', 'Two', 'Three']\n",
    "values = [1, 2, 3]"
   ]
  },
  {
   "cell_type": "code",
   "execution_count": 47,
   "id": "44ebc698",
   "metadata": {},
   "outputs": [],
   "source": [
    "def dict_from_lists(keys,values):\n",
    "    dict1=dict()\n",
    "    for i in range(3): dict1.update({keys[i]:values[i]})\n",
    "    return dict1"
   ]
  },
  {
   "cell_type": "code",
   "execution_count": 48,
   "id": "7b01be8b",
   "metadata": {},
   "outputs": [
    {
     "data": {
      "text/plain": [
       "{'One': 1, 'Two': 2, 'Three': 3, 'Four': 4, 'Five': 5, 'Six': 6}"
      ]
     },
     "execution_count": 48,
     "metadata": {},
     "output_type": "execute_result"
    }
   ],
   "source": [
    "dict1"
   ]
  },
  {
   "cell_type": "markdown",
   "id": "46ea9e7d",
   "metadata": {},
   "source": [
    "## 2.2 Используя dict comprehensions"
   ]
  },
  {
   "cell_type": "code",
   "execution_count": 54,
   "id": "4584ce28",
   "metadata": {},
   "outputs": [],
   "source": [
    "keys = ['One', 'Two', 'Three']\n",
    "values = [1, 2, 3]"
   ]
  },
  {
   "cell_type": "code",
   "execution_count": 55,
   "id": "fc4ca3a6",
   "metadata": {},
   "outputs": [
    {
     "data": {
      "text/plain": [
       "{'One': 1, 'Two': 2, 'Three': 3}"
      ]
     },
     "execution_count": 55,
     "metadata": {},
     "output_type": "execute_result"
    }
   ],
   "source": [
    "dict1=dict()\n",
    "{keys[i]:values[i] for i in range(3)}"
   ]
  },
  {
   "cell_type": "markdown",
   "id": "d07289d9",
   "metadata": {},
   "source": [
    "# Задание 3 Извлеките только два ключа name и age из представленного словаря\n",
    "\n",
    "## 3.1 Напишите функцию с циклом for"
   ]
  },
  {
   "cell_type": "code",
   "execution_count": 99,
   "id": "44c9be57",
   "metadata": {},
   "outputs": [],
   "source": [
    "client_dict = {\n",
    "    \"name\": \"John\",\n",
    "    \"age\": \"25\",\n",
    "    \"salary\": \"5000\",\n",
    "    \"city\": \"Moscow\",\n",
    "            }"
   ]
  },
  {
   "cell_type": "code",
   "execution_count": 100,
   "id": "a5dad3b7",
   "metadata": {},
   "outputs": [],
   "source": [
    "def key_extractor(default_dict: dict, keys: list = [\"name\", \"age\"]) -> dict:\n",
    "    result = dict()\n",
    "    for i in keys:\n",
    "        result.update({i: default_dict[i]})\n",
    "    return result"
   ]
  },
  {
   "cell_type": "code",
   "execution_count": 101,
   "id": "069a50cb",
   "metadata": {},
   "outputs": [
    {
     "data": {
      "text/plain": [
       "{'name': 'John', 'age': '25'}"
      ]
     },
     "execution_count": 101,
     "metadata": {},
     "output_type": "execute_result"
    }
   ],
   "source": [
    "key_extractor(client_dict)"
   ]
  },
  {
   "cell_type": "code",
   "execution_count": 102,
   "id": "536de438",
   "metadata": {},
   "outputs": [],
   "source": [
    "def key_extractor_3(default_dict: dict, keys: list = [\"name\", \"salary\", \"city\"]) -> dict:\n",
    "    result = dict()\n",
    "    for i in keys:\n",
    "        result.update({i: default_dict[i]})\n",
    "    return result"
   ]
  },
  {
   "cell_type": "code",
   "execution_count": 103,
   "id": "dca27e53",
   "metadata": {},
   "outputs": [
    {
     "data": {
      "text/plain": [
       "{'name': 'John', 'salary': '5000', 'city': 'Moscow'}"
      ]
     },
     "execution_count": 103,
     "metadata": {},
     "output_type": "execute_result"
    }
   ],
   "source": [
    "key_extractor_3(client_dict)"
   ]
  },
  {
   "cell_type": "markdown",
   "id": "44319217",
   "metadata": {},
   "source": [
    "## 3.2 Используя dict comprehensions"
   ]
  },
  {
   "cell_type": "code",
   "execution_count": 121,
   "id": "6c0a1341",
   "metadata": {},
   "outputs": [],
   "source": [
    "client_dict = {\n",
    "    \"name\": \"John\",\n",
    "    \"age\": \"25\",\n",
    "    \"salary\": \"5000\",\n",
    "    \"city\": \"Moscow\",\n",
    "            }"
   ]
  },
  {
   "cell_type": "code",
   "execution_count": 127,
   "id": "f22f4ece",
   "metadata": {},
   "outputs": [],
   "source": [
    "def key_extractor(default_dict: dict, keys: list = [\"name\", \"salary\"]) -> dict:\n",
    "    result = {i: default_dict[i] for i in keys}\n",
    "    return result"
   ]
  },
  {
   "cell_type": "code",
   "execution_count": 128,
   "id": "36d4a380",
   "metadata": {},
   "outputs": [
    {
     "data": {
      "text/plain": [
       "{'name': 'John', 'salary': '5000'}"
      ]
     },
     "execution_count": 128,
     "metadata": {},
     "output_type": "execute_result"
    }
   ],
   "source": [
    "key_extractor(client_dict)"
   ]
  },
  {
   "cell_type": "markdown",
   "id": "f4aced57",
   "metadata": {},
   "source": [
    "# Задание 4\n",
    "## 4.1 Сгенерируйте случайные целые числа от 0 до 100 в количестве 5 штук с помощью модуля random. Зафиксируйте псевдогенерацию"
   ]
  },
  {
   "cell_type": "code",
   "execution_count": 107,
   "id": "9efcc921",
   "metadata": {},
   "outputs": [],
   "source": [
    "import random \n",
    "def random_generator(min_value, max_value):\n",
    "    new_list = []\n",
    "    random.seed(5)\n",
    "    for i in range(5): new_list.append(random.randint(min_value, max_value))\n",
    "    return new_list "
   ]
  },
  {
   "cell_type": "code",
   "execution_count": 109,
   "id": "1511392f",
   "metadata": {},
   "outputs": [
    {
     "data": {
      "text/plain": [
       "[79, 32, 94, 45, 88]"
      ]
     },
     "execution_count": 109,
     "metadata": {},
     "output_type": "execute_result"
    }
   ],
   "source": [
    "random_generator(0,100)"
   ]
  },
  {
   "cell_type": "markdown",
   "id": "5a422323",
   "metadata": {},
   "source": [
    "## Используйте list comprehension"
   ]
  },
  {
   "cell_type": "code",
   "execution_count": 5,
   "id": "14c72342",
   "metadata": {},
   "outputs": [],
   "source": [
    "import random \n",
    "def random_generator(min_value, max_value):\n",
    "    new_list = [random.randint(min_value, max_value) for i in range(5)]\n",
    "    return new_list "
   ]
  },
  {
   "cell_type": "code",
   "execution_count": 6,
   "id": "346e2b3e",
   "metadata": {},
   "outputs": [
    {
     "data": {
      "text/plain": [
       "[77, 58, 94, 85, 87]"
      ]
     },
     "execution_count": 6,
     "metadata": {},
     "output_type": "execute_result"
    }
   ],
   "source": [
    "random_generator(0,100)"
   ]
  },
  {
   "cell_type": "markdown",
   "id": "6e7ee866",
   "metadata": {},
   "source": [
    "# Задание 5\n",
    "\n",
    "## 5.1 Найдите картинку в интернете и прикрепите её в ячейку с текстом"
   ]
  },
  {
   "cell_type": "markdown",
   "id": "d78e72f5",
   "metadata": {},
   "source": [
    "<img src = 'https://img1.akspic.ru/crops/1/9/7/5/0/105791/105791-zima-drevesnye_rasteniya-zakat-moroz-derevo-3840x2160.jpg'>"
   ]
  },
  {
   "cell_type": "markdown",
   "id": "5afb194c",
   "metadata": {},
   "source": [
    "## 5.2 Создайте следующую таблицу в ячейке с текстом"
   ]
  },
  {
   "cell_type": "markdown",
   "id": "c579c5ff",
   "metadata": {},
   "source": [
    "<table>\n",
    "    <tr>\n",
    "        <td></td>\n",
    "        <td>До события</td>\n",
    "         <td>Во время события</td>\n",
    "    </tr>\n",
    "     <tr>\n",
    "        <td>1 контрольная точка</td>\n",
    "        <td>250</td>\n",
    "         <td>500</td>\n",
    "    </tr> \n",
    "    <tr>\n",
    "        <td>2 контрольная точка</td>\n",
    "        <td>350</td>\n",
    "         <td>700</td>\n",
    "    </tr>\n",
    "     <tr>\n",
    "        <td>3 контрольная точка</td>\n",
    "        <td>400</td>\n",
    "         <td>800</td>\n",
    "    </tr>\n",
    "    <tr>\n",
    "        <td><b>Итого за победу</b></td>\n",
    "        <td><b>1000</b></td>\n",
    "        <td><b>2000</b></td>\n",
    "</table>"
   ]
  },
  {
   "cell_type": "markdown",
   "id": "21b83d94",
   "metadata": {},
   "source": [
    "# Задание 6\n",
    "## Напишите функцию, которая может принимать любое количество трат пользователя и считать сумму и среднее\n",
    "### На вход поступают целочисленные значения в любом количестве\n",
    "### На выходе словарь с ключами суммы трат и средней траты"
   ]
  },
  {
   "cell_type": "code",
   "execution_count": 93,
   "id": "c2e9254f",
   "metadata": {},
   "outputs": [],
   "source": [
    "def expense_stat(*args):\n",
    "    result = {'total': sum(args), 'mean': sum(args)/len(args)}\n",
    "    return result"
   ]
  },
  {
   "cell_type": "code",
   "execution_count": 94,
   "id": "c32a11ad",
   "metadata": {},
   "outputs": [
    {
     "data": {
      "text/plain": [
       "{'total': 900, 'mean': 300.0}"
      ]
     },
     "execution_count": 94,
     "metadata": {},
     "output_type": "execute_result"
    }
   ],
   "source": [
    "expense_stat(100,200,600)"
   ]
  },
  {
   "cell_type": "markdown",
   "id": "3f684d91",
   "metadata": {},
   "source": [
    "# Домашнее задание 2\n",
    "## Написать функцию, которая на вход принимает любое количество названий фруктов и их количество, а возвращает общее количество фруктов на складе"
   ]
  },
  {
   "cell_type": "code",
   "execution_count": 103,
   "id": "ac428e9f",
   "metadata": {},
   "outputs": [],
   "source": [
    "def total_fruits(**kwargs):\n",
    "    result = 0\n",
    "    for key, value in kwargs.items():\n",
    "        result = result + value\n",
    "    return result"
   ]
  },
  {
   "cell_type": "code",
   "execution_count": 104,
   "id": "a5d34fa1",
   "metadata": {},
   "outputs": [
    {
     "data": {
      "text/plain": [
       "22"
      ]
     },
     "execution_count": 104,
     "metadata": {},
     "output_type": "execute_result"
    }
   ],
   "source": [
    "total_fruits(banana = 5, peache = 5, apricot = 12)"
   ]
  },
  {
   "cell_type": "markdown",
   "id": "1ba077fb",
   "metadata": {},
   "source": [
    "# Домашнее задание 3\n",
    "## Дан список с затратами на рекламу. Но в данных есть ошибки, некоторые затраты имеют отрицательную величину. Удалите такие значения из списка и посчитайте суммарные затраты"
   ]
  },
  {
   "cell_type": "code",
   "execution_count": 117,
   "id": "7a98e648",
   "metadata": {},
   "outputs": [],
   "source": [
    "expenses = [100, 125, -90, 345, 655, -1, 0, 200]\n",
    "expenses_amended = []\n",
    "for i in expenses:\n",
    "    if i>0:\n",
    "        expenses_amended.append(i)"
   ]
  },
  {
   "cell_type": "code",
   "execution_count": 118,
   "id": "9d69e3dd",
   "metadata": {},
   "outputs": [
    {
     "name": "stdout",
     "output_type": "stream",
     "text": [
      "[100, 125, 345, 655, 200]\n"
     ]
    }
   ],
   "source": [
    "print(expenses_amended)"
   ]
  },
  {
   "cell_type": "code",
   "execution_count": 128,
   "id": "f73fe198",
   "metadata": {},
   "outputs": [],
   "source": [
    "expenses = [100, 125, -90, 345, 655, -1, 0, 200]\n",
    "for i in expenses:\n",
    "    if i<=0:\n",
    "        expenses.remove(i)"
   ]
  },
  {
   "cell_type": "code",
   "execution_count": 129,
   "id": "3646bb8c",
   "metadata": {},
   "outputs": [
    {
     "name": "stdout",
     "output_type": "stream",
     "text": [
      "[100, 125, 345, 655, 0, 200]\n"
     ]
    }
   ],
   "source": [
    "print(expenses)"
   ]
  },
  {
   "cell_type": "code",
   "execution_count": 136,
   "id": "d9ba18d2",
   "metadata": {},
   "outputs": [
    {
     "name": "stdout",
     "output_type": "stream",
     "text": [
      "1425\n"
     ]
    }
   ],
   "source": [
    "result = 0\n",
    "for i in expenses:\n",
    "    result = result+i\n",
    "print(result)"
   ]
  },
  {
   "cell_type": "markdown",
   "id": "e1032d2a",
   "metadata": {},
   "source": [
    "## Используйте list comprehensions"
   ]
  },
  {
   "cell_type": "code",
   "execution_count": 151,
   "id": "6bac9af3",
   "metadata": {},
   "outputs": [
    {
     "name": "stdout",
     "output_type": "stream",
     "text": [
      "[100, 125, 345, 655, 0, 200]\n",
      "1425\n"
     ]
    }
   ],
   "source": [
    "expenses = [100, 125, -90, 345, 655, -1, 0, 200]\n",
    "{expenses.remove(i) for i in expenses if i<=0}\n",
    "{result}\n",
    "print(expenses)\n",
    "print(result)\n"
   ]
  },
  {
   "cell_type": "markdown",
   "id": "bc456277",
   "metadata": {},
   "source": [
    "# Домашнее задание 4"
   ]
  },
  {
   "cell_type": "code",
   "execution_count": 280,
   "id": "bc0d9c58",
   "metadata": {},
   "outputs": [],
   "source": [
    "purchase_date = ['2021-09-14', '2021-12-15', '2021-09-08', '2021-12-05', '2021-10-09', '2021-09-30', '2021-12-22', '2021-11-29', '2021-12-24', '2021-11-26', '2021-10-27', '2021-12-18', '2021-11-09', '2021-11-23', '2021-09-27', '2021-10-02', '2021-12-27', '2021-09-20', '2021-12-13', '2021-11-01', '2021-11-09', '2021-12-06', '2021-12-08', '2021-10-09', '2021-10-31', '2021-09-30', '2021-11-09', '2021-12-13', '2021-10-26', '2021-12-09']"
   ]
  },
  {
   "cell_type": "code",
   "execution_count": 313,
   "id": "327ab2d4",
   "metadata": {},
   "outputs": [
    {
     "name": "stdout",
     "output_type": "stream",
     "text": [
      "<class 'str'>\n"
     ]
    }
   ],
   "source": [
    "print(type(purchase_date[0]))"
   ]
  },
  {
   "cell_type": "code",
   "execution_count": 281,
   "id": "557ce690",
   "metadata": {},
   "outputs": [],
   "source": [
    "total_by_dates = [1270, 8413, 9028, 3703, 5739, 4095, 295, 4944, 5723, 3701, 4471, 651, 7037, 4274, 6275, 4988, 6930, 2971, 6592, 2004, 2822, 519, 3406, 2732, 5015, 2008, 316, 6333, 5700, 2887]"
   ]
  },
  {
   "cell_type": "markdown",
   "id": "62461d9b",
   "metadata": {},
   "source": [
    "## 4.1 Найдите, какая выручка у компании в ноябре "
   ]
  },
  {
   "cell_type": "code",
   "execution_count": 398,
   "id": "e25f82b6",
   "metadata": {},
   "outputs": [],
   "source": [
    "def dict_merger(keys: dict, values: dict) -> dict:\n",
    "    new_dict = {keys[i]: values[i] for i in range(len(keys))}\n",
    "    return new_dict"
   ]
  },
  {
   "cell_type": "code",
   "execution_count": 399,
   "id": "d7b03015",
   "metadata": {},
   "outputs": [],
   "source": [
    "purchase_stat = dict_merger(purchase_date,total_by_dates)"
   ]
  },
  {
   "cell_type": "code",
   "execution_count": 400,
   "id": "ef265cbd",
   "metadata": {},
   "outputs": [
    {
     "name": "stdout",
     "output_type": "stream",
     "text": [
      "{'2021-09-14': 1270, '2021-12-15': 8413, '2021-09-08': 9028, '2021-12-05': 3703, '2021-10-09': 2732, '2021-09-30': 2008, '2021-12-22': 295, '2021-11-29': 4944, '2021-12-24': 5723, '2021-11-26': 3701, '2021-10-27': 4471, '2021-12-18': 651, '2021-11-09': 316, '2021-11-23': 4274, '2021-09-27': 6275, '2021-10-02': 4988, '2021-12-27': 6930, '2021-09-20': 2971, '2021-12-13': 6333, '2021-11-01': 2004, '2021-12-06': 519, '2021-12-08': 3406, '2021-10-31': 5015, '2021-10-26': 5700, '2021-12-09': 2887}\n"
     ]
    }
   ],
   "source": [
    "print(purchase_stat)"
   ]
  },
  {
   "cell_type": "code",
   "execution_count": 401,
   "id": "4a6370ca",
   "metadata": {},
   "outputs": [],
   "source": [
    "def key_extractor(default_dict: dict, keys: list = ['2021-11-29','2021-11-26','2021-11-09','2021-11-23', '2021-11-01'] ) -> dict:\n",
    "    result = {i: default_dict[i] for i in keys}\n",
    "    return result"
   ]
  },
  {
   "cell_type": "code",
   "execution_count": 402,
   "id": "d5fad33a",
   "metadata": {},
   "outputs": [
    {
     "name": "stdout",
     "output_type": "stream",
     "text": [
      "<class 'str'>\n"
     ]
    }
   ],
   "source": [
    "print(type(purchase_date[0]))"
   ]
  },
  {
   "cell_type": "code",
   "execution_count": 419,
   "id": "b50b5f2e",
   "metadata": {},
   "outputs": [
    {
     "name": "stdout",
     "output_type": "stream",
     "text": [
      "{'2021-11-29': 4944, '2021-11-26': 3701, '2021-11-09': 316, '2021-11-23': 4274, '2021-11-01': 2004}\n"
     ]
    }
   ],
   "source": [
    "new_dict = key_extractor(purchase_stat)\n",
    "print(new_dict)"
   ]
  },
  {
   "cell_type": "code",
   "execution_count": 445,
   "id": "1cc0d32e",
   "metadata": {},
   "outputs": [
    {
     "name": "stdout",
     "output_type": "stream",
     "text": [
      "dict_values([4944, 3701, 316, 4274, 2004])\n"
     ]
    }
   ],
   "source": [
    "revenue = new_dict.values\n",
    "print(revenue())"
   ]
  },
  {
   "cell_type": "code",
   "execution_count": 476,
   "id": "c5008d59",
   "metadata": {},
   "outputs": [
    {
     "name": "stdout",
     "output_type": "stream",
     "text": [
      "15239\n"
     ]
    }
   ],
   "source": [
    "November_revenue = 0\n",
    "for i in revenue(): \n",
    "    November_revenue = November_revenue + i\n",
    "print(November_revenue)"
   ]
  },
  {
   "cell_type": "markdown",
   "id": "6b5aa511",
   "metadata": {},
   "source": [
    "## 4.2 Найдите выручку компании в зависимости от месяца"
   ]
  },
  {
   "cell_type": "code",
   "execution_count": null,
   "id": "05e16c25",
   "metadata": {},
   "outputs": [],
   "source": [
    "def dict_merger(keys: dict, values: dict) -> dict:\n",
    "    new_dict = {keys[i]: values[i] for i in range(len(keys))}\n",
    "    return new_dict"
   ]
  },
  {
   "cell_type": "code",
   "execution_count": 477,
   "id": "6c5829a8",
   "metadata": {},
   "outputs": [
    {
     "data": {
      "text/plain": [
       "{'2021-09-14': 1270,\n",
       " '2021-12-15': 8413,\n",
       " '2021-09-08': 9028,\n",
       " '2021-12-05': 3703,\n",
       " '2021-10-09': 2732,\n",
       " '2021-09-30': 2008,\n",
       " '2021-12-22': 295,\n",
       " '2021-11-29': 4944,\n",
       " '2021-12-24': 5723,\n",
       " '2021-11-26': 3701,\n",
       " '2021-10-27': 4471,\n",
       " '2021-12-18': 651,\n",
       " '2021-11-09': 316,\n",
       " '2021-11-23': 4274,\n",
       " '2021-09-27': 6275,\n",
       " '2021-10-02': 4988,\n",
       " '2021-12-27': 6930,\n",
       " '2021-09-20': 2971,\n",
       " '2021-12-13': 6333,\n",
       " '2021-11-01': 2004,\n",
       " '2021-12-06': 519,\n",
       " '2021-12-08': 3406,\n",
       " '2021-10-31': 5015,\n",
       " '2021-10-26': 5700,\n",
       " '2021-12-09': 2887}"
      ]
     },
     "execution_count": 477,
     "metadata": {},
     "output_type": "execute_result"
    }
   ],
   "source": [
    "dict_merger(purchase_date,total_by_dates)"
   ]
  },
  {
   "cell_type": "code",
   "execution_count": 478,
   "id": "933b45f7",
   "metadata": {},
   "outputs": [
    {
     "ename": "SyntaxError",
     "evalue": "invalid syntax (2830201818.py, line 1)",
     "output_type": "error",
     "traceback": [
      "\u001b[0;36m  File \u001b[0;32m\"/var/folders/yj/9y6wn5pj3w7g3fxymw4tb5jm0000gn/T/ipykernel_760/2830201818.py\"\u001b[0;36m, line \u001b[0;32m1\u001b[0m\n\u001b[0;31m    git init\u001b[0m\n\u001b[0m        ^\u001b[0m\n\u001b[0;31mSyntaxError\u001b[0m\u001b[0;31m:\u001b[0m invalid syntax\n"
     ]
    }
   ],
   "source": []
  },
  {
   "cell_type": "code",
   "execution_count": null,
   "id": "8200d920",
   "metadata": {},
   "outputs": [],
   "source": []
  }
 ],
 "metadata": {
  "kernelspec": {
   "display_name": "Python 3 (ipykernel)",
   "language": "python",
   "name": "python3"
  },
  "language_info": {
   "codemirror_mode": {
    "name": "ipython",
    "version": 3
   },
   "file_extension": ".py",
   "mimetype": "text/x-python",
   "name": "python",
   "nbconvert_exporter": "python",
   "pygments_lexer": "ipython3",
   "version": "3.9.7"
  }
 },
 "nbformat": 4,
 "nbformat_minor": 5
}
